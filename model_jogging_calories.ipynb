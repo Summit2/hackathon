{
 "cells": [
  {
   "cell_type": "code",
   "execution_count": 307,
   "metadata": {},
   "outputs": [],
   "source": [
    "import numpy as np\n",
    "from linear_regression import MyLinearRegression"
   ]
  },
  {
   "cell_type": "code",
   "execution_count": 19,
   "metadata": {},
   "outputs": [],
   "source": []
  },
  {
   "cell_type": "markdown",
   "metadata": {},
   "source": [
    " [Sex_Female, Sex_Male, Weight, Height, Jog_Light, Jog_Moderate, Jog_Intense, Time, Calories]"
   ]
  },
  {
   "cell_type": "code",
   "execution_count": 308,
   "metadata": {},
   "outputs": [
    {
     "name": "stdout",
     "output_type": "stream",
     "text": [
      "[1, 0, 84.90808570098726, 175.9540892568109, 0, 0, 1, 12.80880386737195, 171.66477045745398]\n",
      "[0, 1, 76.80481831720601, 173.95909388148655, 0, 0, 1, 34.55478646915826, 200.23184726003458]\n",
      "[1, 0, 65.47638081431639, 151.28210329032177, 0, 0, 1, 56.35553144292137, 191.2982898249555]\n",
      "[1, 0, 90.68975098534743, 167.0623913813078, 0, 0, 1, 15.26966090539026, 180.48965997677425]\n",
      "[1, 0, 84.23655862769397, 169.00978093929285, 0, 0, 1, 48.22203640377522, 193.14429435370258]\n"
     ]
    }
   ],
   "source": [
    "n_samples = 1000\n",
    "np.random.seed(42)\n",
    "\n",
    "sex = np.random.choice([0, 1], size=n_samples)\n",
    "weight = np.random.uniform(50, 100, n_samples)\n",
    "height = np.random.uniform(150, 200, n_samples)\n",
    "jogging_type = np.random.choice([0, 1, 2], size=n_samples)\n",
    "time = np.random.uniform(10, 60, n_samples)\n",
    "\n",
    "alpha = 50\n",
    "beta_sex = 5\n",
    "beta_weight = 0.3\n",
    "beta_height = 0.1\n",
    "beta_jogging_type = 40\n",
    "beta_time = 0.5\n",
    "\n",
    "calories = (alpha + beta_sex * sex +\n",
    "            beta_weight * weight +\n",
    "            beta_height * height +\n",
    "            beta_jogging_type * jogging_type +\n",
    "            beta_time * time +\n",
    "            np.random.normal(0, 5, n_samples))\n",
    "\n",
    "data = []\n",
    "for i in range(n_samples):\n",
    "    sex_female, sex_male = (1, 0) if sex[i] == 0 else (0, 1)\n",
    "    jog_light, jog_moderate, jog_intense = (1, 0, 0) if jogging_type[i] == 0 else (0, 1, 0) if jogging_type[i] == 1 else (0, 0, 1)\n",
    "    data.append([sex_female, sex_male, weight[i], height[i], jog_light, jog_moderate, jog_intense, time[i], calories[i]])\n",
    "\n",
    "for row in data[:5]:\n",
    "    print(row)\n"
   ]
  },
  {
   "cell_type": "code",
   "execution_count": 309,
   "metadata": {},
   "outputs": [],
   "source": [
    "data = np.array(data)"
   ]
  },
  {
   "cell_type": "code",
   "execution_count": null,
   "metadata": {},
   "outputs": [],
   "source": []
  },
  {
   "cell_type": "code",
   "execution_count": 310,
   "metadata": {},
   "outputs": [
    {
     "data": {
      "text/plain": [
       "1000"
      ]
     },
     "execution_count": 310,
     "metadata": {},
     "output_type": "execute_result"
    }
   ],
   "source": [
    "len(data)"
   ]
  },
  {
   "cell_type": "code",
   "execution_count": 311,
   "metadata": {},
   "outputs": [],
   "source": [
    "\n",
    "X_train = data[0:900,:-1]\n",
    "X_test = data[900: , : -1]\n",
    "\n",
    "y_train = data[0:900,-1]\n",
    "y_test = data[900: , -1]"
   ]
  },
  {
   "cell_type": "code",
   "execution_count": null,
   "metadata": {},
   "outputs": [],
   "source": []
  },
  {
   "cell_type": "code",
   "execution_count": 269,
   "metadata": {},
   "outputs": [],
   "source": []
  },
  {
   "cell_type": "code",
   "execution_count": 312,
   "metadata": {},
   "outputs": [
    {
     "name": "stdout",
     "output_type": "stream",
     "text": [
      "900 100\n"
     ]
    }
   ],
   "source": [
    "print(len(X_train),len(X_test))"
   ]
  },
  {
   "cell_type": "code",
   "execution_count": 313,
   "metadata": {},
   "outputs": [
    {
     "name": "stdout",
     "output_type": "stream",
     "text": [
      "[  1.           0.          84.9080857  175.95408926   0.\n",
      "   0.           1.          12.80880387]\n",
      "171.66477045745398\n"
     ]
    }
   ],
   "source": [
    "print(X_train[0])\n",
    "print(y_train[0])"
   ]
  },
  {
   "cell_type": "markdown",
   "metadata": {},
   "source": [
    "Linear regression"
   ]
  },
  {
   "cell_type": "code",
   "execution_count": 86,
   "metadata": {},
   "outputs": [],
   "source": []
  },
  {
   "cell_type": "code",
   "execution_count": 314,
   "metadata": {},
   "outputs": [],
   "source": [
    "X_train = (X_train - np.mean(X_train, axis=0)) / np.std(X_train, axis=0)\n",
    "# y_train = (y_train - np.mean(y_train)) / np.std(y_train)"
   ]
  },
  {
   "cell_type": "code",
   "execution_count": 315,
   "metadata": {},
   "outputs": [],
   "source": [
    "import numpy as np\n",
    "\n",
    "\n",
    "class MyLinearRegression():\n",
    "\n",
    "    def __init__(self,learning_rate = 0.001 ):\n",
    "        \n",
    "        self.mu,self.sigma = 0, 0.1\n",
    "        \n",
    "        self.weights = None #W+bias\n",
    "        self.bias= None  #will be added after model.fit complete\n",
    "\n",
    "        self.lr = learning_rate\n",
    "        self.epochs = 10000\n",
    "\n",
    "    def exact_solution(self, X ,y ):\n",
    "        return np.linalg.inv(X.T @ X) @ X.T @ y\n",
    "    \n",
    "    def grad(self, X,y):\n",
    "        \n",
    "        error = X@self.weights-y\n",
    "        return 2 * X.T@(error) / (X.shape[0]), np.mean(error)\n",
    "    \n",
    "\n",
    "\n",
    "    def fit(self, X,y):\n",
    "        y = y.reshape(-1, 1)\n",
    "\n",
    "        x0 = np.ones(shape = (X.shape[0],1)) #this is bias\n",
    "        X = np.concatenate([X, x0],axis =1) # add to arr\n",
    "        \n",
    "\n",
    "        error = 1 # random digit > than 0\n",
    "        counter = 0 #if we can't make it under number of epochs\n",
    "\n",
    "        self.weights = np.random.normal(self.mu,self.sigma,(X.shape[1],1))\n",
    "        while (abs(error)>0.001):\n",
    "            grad_i, error = self.grad(X,y)\n",
    "\n",
    "            self.weights  -= self.lr * grad_i\n",
    "            counter+=1\n",
    "            if counter>=self.epochs:\n",
    "                break\n",
    "            # print('Error',error)\n",
    "        print(f\"Модель сошлась за {counter} эпох\")\n",
    "        \n",
    "        self.weights = self.weights[:-1]\n",
    "        self.bias = self.weights[-1]\n",
    "\n",
    "    def predict(self,X):\n",
    "        return X@self.weights\n"
   ]
  },
  {
   "cell_type": "code",
   "execution_count": 139,
   "metadata": {},
   "outputs": [],
   "source": []
  },
  {
   "cell_type": "code",
   "execution_count": 316,
   "metadata": {},
   "outputs": [],
   "source": [
    "model = MyLinearRegression()"
   ]
  },
  {
   "cell_type": "code",
   "execution_count": 317,
   "metadata": {},
   "outputs": [
    {
     "name": "stdout",
     "output_type": "stream",
     "text": [
      "Модель сошлась за 5951 эпох\n"
     ]
    }
   ],
   "source": [
    "model.fit(X_train,y_train)"
   ]
  },
  {
   "cell_type": "code",
   "execution_count": 49,
   "metadata": {},
   "outputs": [],
   "source": []
  },
  {
   "cell_type": "code",
   "execution_count": 318,
   "metadata": {},
   "outputs": [],
   "source": [
    "\n",
    "weights = {'weights' : model.weights.tolist()}"
   ]
  },
  {
   "cell_type": "code",
   "execution_count": 319,
   "metadata": {},
   "outputs": [],
   "source": [
    "import json\n",
    "with open('model_jogging_calories.json', 'w') as f:\n",
    "    json.dump(weights, f)"
   ]
  },
  {
   "cell_type": "code",
   "execution_count": null,
   "metadata": {},
   "outputs": [],
   "source": []
  },
  {
   "cell_type": "code",
   "execution_count": 320,
   "metadata": {},
   "outputs": [
    {
     "data": {
      "text/plain": [
       "(113.74030017171555,\n",
       " array([131.11899075]),\n",
       " array([  0.        ,   1.        ,  66.35165808, 176.66933144,\n",
       "          1.        ,   0.        ,   0.        ,  43.25279945]))"
      ]
     },
     "execution_count": 320,
     "metadata": {},
     "output_type": "execute_result"
    }
   ],
   "source": [
    "import random\n",
    "row= random.randint(0,99)\n",
    "y_test[row],model.predict(X_test)[row] * 0.15, X_test[row]"
   ]
  },
  {
   "cell_type": "code",
   "execution_count": 321,
   "metadata": {},
   "outputs": [],
   "source": [
    "# def calculate_calories(sex, weight, height, jogging_type, time):\n",
    "    \n",
    "#     met_values = {\n",
    "#         'легкая': 7.0,       \n",
    "#         'умеренная': 9.0,    \n",
    "#         'интенсивная': 12.0  \n",
    "#     }\n",
    "    \n",
    "#     if jogging_type not in met_values:\n",
    "#         return \"Неверный тип пробежки\"\n",
    "\n",
    "#     met = met_values[jogging_type]\n",
    "\n",
    "#     time_in_hours = time / 60\n",
    "\n",
    "#     calories_burned = met * weight * time_in_hours\n",
    "#     return calories_burned\n",
    "\n",
    "\n"
   ]
  },
  {
   "cell_type": "code",
   "execution_count": 323,
   "metadata": {},
   "outputs": [],
   "source": [
    "# sex = 'мужской'  \n",
    "# weight = 70      \n",
    "# height = 175     \n",
    "# jogging_type = 'умеренная'  \n",
    "# time = 30       \n",
    "\n",
    "# calories = calculate_calories(sex, weight, height, jogging_type, time)\n"
   ]
  }
 ],
 "metadata": {
  "kernelspec": {
   "display_name": "Python 3",
   "language": "python",
   "name": "python3"
  },
  "language_info": {
   "codemirror_mode": {
    "name": "ipython",
    "version": 3
   },
   "file_extension": ".py",
   "mimetype": "text/x-python",
   "name": "python",
   "nbconvert_exporter": "python",
   "pygments_lexer": "ipython3",
   "version": "3.10.11"
  }
 },
 "nbformat": 4,
 "nbformat_minor": 2
}
